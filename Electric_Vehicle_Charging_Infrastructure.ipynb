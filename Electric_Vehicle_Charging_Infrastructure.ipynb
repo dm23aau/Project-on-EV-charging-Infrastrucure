{
  "nbformat": 4,
  "nbformat_minor": 0,
  "metadata": {
    "colab": {
      "provenance": [],
      "authorship_tag": "ABX9TyMKNHiTx0Mw9Zjo2EmmzL8d"
    },
    "kernelspec": {
      "name": "python3",
      "display_name": "Python 3"
    },
    "language_info": {
      "name": "python"
    }
  },
  "cells": [
    {
      "cell_type": "code",
      "execution_count": 1,
      "metadata": {
        "id": "MhmIvRmNqmnc"
      },
      "outputs": [],
      "source": [
        "# Required libraries\n",
        "import pandas as pd\n",
        "import matplotlib.pyplot as plt\n",
        "from sklearn.impute import KNNImputer\n",
        "import numpy as np\n",
        "import seaborn as sns"
      ]
    },
    {
      "cell_type": "code",
      "source": [
        "from google.colab import drive\n",
        "drive.mount('/content/drive')"
      ],
      "metadata": {
        "id": "bglYY0HlA6GX"
      },
      "execution_count": null,
      "outputs": []
    },
    {
      "cell_type": "code",
      "source": [
        "# Load the dataset from the uploaded location\n",
        "file_path ='/content/station_data_dataverse.csv'\n",
        "data = pd.read_csv(file_path)\n"
      ],
      "metadata": {
        "id": "oFa6wzswrC9v"
      },
      "execution_count": 4,
      "outputs": []
    },
    {
      "cell_type": "code",
      "source": [
        "# Display the first few rows of the dataset and check for missing values and data types\n",
        "print(\"Shape of the dataset:\")\n",
        "print(data.shape)\n",
        "\n",
        "data_head = data.head()\n",
        "print(\"First 5 rows of the dataset:\")\n",
        "print(data_head)\n",
        "\n",
        "missing_values = data.isnull().sum()\n",
        "print(\"Number of Missing values in the dataset, column wise:\")\n",
        "print(missing_values)\n",
        "\n",
        "data_types = data.dtypes\n",
        "print(\"Data types of each column:\")\n",
        "print(data_types)"
      ],
      "metadata": {
        "colab": {
          "base_uri": "https://localhost:8080/"
        },
        "id": "A5Tbok0FtEPP",
        "outputId": "1f730d21-006b-4a61-808e-845e48c3b844"
      },
      "execution_count": 8,
      "outputs": [
        {
          "output_type": "stream",
          "name": "stdout",
          "text": [
            "Shape of the dataset:\n",
            "(3395, 24)\n",
            "First 5 rows of the dataset:\n",
            "   sessionId  kwhTotal  dollars              created                ended  \\\n",
            "0    1366563      7.78     0.00  0014-11-18 15:40:26  0014-11-18 17:11:04   \n",
            "1    3075723      9.74     0.00  0014-11-19 17:40:26  0014-11-19 19:51:04   \n",
            "2    4228788      6.76     0.58  0014-11-21 12:05:46  0014-11-21 16:46:04   \n",
            "3    3173284      6.17     0.00  0014-12-03 19:16:12  0014-12-03 21:02:18   \n",
            "4    3266500      0.93     0.00  0014-12-11 20:56:11  0014-12-11 21:14:06   \n",
            "\n",
            "   startTime  endTime  chargeTimeHrs weekday platform  ...  managerVehicle  \\\n",
            "0         15       17       1.510556     Tue  android  ...               0   \n",
            "1         17       19       2.177222     Wed  android  ...               0   \n",
            "2         12       16       4.671667     Fri  android  ...               0   \n",
            "3         19       21       1.768333     Wed  android  ...               0   \n",
            "4         20       21       0.298611     Thu  android  ...               0   \n",
            "\n",
            "   facilityType  Mon  Tues  Wed  Thurs  Fri  Sat  Sun  reportedZip  \n",
            "0             3    0     1    0      0    0    0    0            0  \n",
            "1             3    0     0    1      0    0    0    0            0  \n",
            "2             3    0     0    0      0    1    0    0            0  \n",
            "3             3    0     0    1      0    0    0    0            0  \n",
            "4             3    0     0    0      1    0    0    0            0  \n",
            "\n",
            "[5 rows x 24 columns]\n",
            "Number of Missing values in the dataset, column wise:\n",
            "sessionId            0\n",
            "kwhTotal             0\n",
            "dollars              0\n",
            "created              0\n",
            "ended                0\n",
            "startTime            0\n",
            "endTime              0\n",
            "chargeTimeHrs        0\n",
            "weekday              0\n",
            "platform             0\n",
            "distance          1065\n",
            "userId               0\n",
            "stationId            0\n",
            "locationId           0\n",
            "managerVehicle       0\n",
            "facilityType         0\n",
            "Mon                  0\n",
            "Tues                 0\n",
            "Wed                  0\n",
            "Thurs                0\n",
            "Fri                  0\n",
            "Sat                  0\n",
            "Sun                  0\n",
            "reportedZip          0\n",
            "dtype: int64\n",
            "Data types of each column:\n",
            "sessionId           int64\n",
            "kwhTotal          float64\n",
            "dollars           float64\n",
            "created            object\n",
            "ended              object\n",
            "startTime           int64\n",
            "endTime             int64\n",
            "chargeTimeHrs     float64\n",
            "weekday            object\n",
            "platform           object\n",
            "distance          float64\n",
            "userId              int64\n",
            "stationId           int64\n",
            "locationId          int64\n",
            "managerVehicle      int64\n",
            "facilityType        int64\n",
            "Mon                 int64\n",
            "Tues                int64\n",
            "Wed                 int64\n",
            "Thurs               int64\n",
            "Fri                 int64\n",
            "Sat                 int64\n",
            "Sun                 int64\n",
            "reportedZip         int64\n",
            "dtype: object\n"
          ]
        }
      ]
    },
    {
      "cell_type": "code",
      "source": [
        "# 'distance' column has a lot of missing values.\n",
        "# Plot the distribution of the 'distance' column\n",
        "plt.figure(figsize=(10, 6))\n",
        "plt.hist(data['distance'].dropna(), bins=100, color='blue', alpha=0.7)\n",
        "plt.title('Distribution of Distance Values')\n",
        "plt.xlabel('Distance')\n",
        "plt.ylabel('Frequency')\n",
        "plt.grid(True)\n",
        "plt.show()"
      ],
      "metadata": {
        "colab": {
          "base_uri": "https://localhost:8080/",
          "height": 564
        },
        "id": "STsuOTHHtZ80",
        "outputId": "b37a88fe-9cb5-4157-f601-4a5fc9252b14"
      },
      "execution_count": 7,
      "outputs": [
        {
          "output_type": "display_data",
          "data": {
            "text/plain": [
              "<Figure size 1000x600 with 1 Axes>"
            ],
            "image/png": "[encoded data removed]"
          },
          "metadata": {}
        }
      ]
    },
    {
      "cell_type": "code",
      "source": [
        "# Remove rows where 'distance' is missing\n",
        "cleaned_data = data.dropna(subset=['distance'])\n",
        "\n",
        "# Print the shape of the data before and after removal of missing values to see how many rows were dropped\n",
        "print(\"Original Data Shape:\", data.shape)\n",
        "print(\"Cleaned Data Shape:\", cleaned_data.shape)"
      ],
      "metadata": {
        "colab": {
          "base_uri": "https://localhost:8080/"
        },
        "id": "6LRyAf3eth9_",
        "outputId": "a0d58bbd-12a8-4607-f8fd-4b20e42e5903"
      },
      "execution_count": 6,
      "outputs": [
        {
          "output_type": "stream",
          "name": "stdout",
          "text": [
            "Original Data Shape: (3395, 24)\n",
            "Cleaned Data Shape: (2330, 24)\n"
          ]
        }
      ]
    }
  ]
}