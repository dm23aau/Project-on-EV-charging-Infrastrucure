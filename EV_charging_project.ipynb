{
  "nbformat": 4,
  "nbformat_minor": 0,
  "metadata": {
    "colab": {
      "provenance": [],
      "authorship_tag": "ABX9TyMj/qebZ8/sSJwVkmIhjF1b"
    },
    "kernelspec": {
      "name": "python3",
      "display_name": "Python 3"
    },
    "language_info": {
      "name": "python"
    }
  },
  "cells": [
    {
      "cell_type": "code",
      "execution_count": 43,
      "metadata": {
        "id": "X-H-IVtzAyK2"
      },
      "outputs": [],
      "source": [
        "#Required libraries\n",
        "import pandas as pd\n",
        "import numpy as np\n",
        "import matplotlib.pyplot as plt\n",
        "import seaborn as sns"
      ]
    },
    {
      "cell_type": "code",
      "source": [
        "#Load the dataset from uploaded location\n",
        "filepath = '/content/station_data_dataverse.csv'\n",
        "data = pd.read_csv(filepath)"
      ],
      "metadata": {
        "id": "0NiNSy3TCCzN"
      },
      "execution_count": 44,
      "outputs": []
    },
    {
      "cell_type": "code",
      "source": [
        "#Display the first few rows of the dataset and check for missing values and datatypes\n",
        "print(\"Shape of the dataset:\")\n",
        "print(data.shape)\n",
        "\n",
        "data_head= data.head()\n",
        "print(\"First five rows of the dataset:\")\n",
        "print(data.head())\n",
        "\n",
        "missing_values=data.isnull().sum()\n",
        "print(\"Number of missing values in the dataset,coloumn wise:\")\n",
        "print(missing_values)\n",
        "\n",
        "data_types = data.dtypes\n",
        "print(\"Data types of each column:\")\n",
        "print(data.dtypes)\n"
      ],
      "metadata": {
        "colab": {
          "base_uri": "https://localhost:8080/"
        },
        "id": "QVGkC5NwCdRX",
        "outputId": "4634666a-15bb-4567-a3b9-f0bd65e1744b"
      },
      "execution_count": 45,
      "outputs": [
        {
          "output_type": "stream",
          "name": "stdout",
          "text": [
            "Shape of the dataset:\n",
            "(3395, 24)\n",
            "First five rows of the dataset:\n",
            "   sessionId  kwhTotal  dollars              created                ended  \\\n",
            "0    1366563      7.78     0.00  0014-11-18 15:40:26  0014-11-18 17:11:04   \n",
            "1    3075723      9.74     0.00  0014-11-19 17:40:26  0014-11-19 19:51:04   \n",
            "2    4228788      6.76     0.58  0014-11-21 12:05:46  0014-11-21 16:46:04   \n",
            "3    3173284      6.17     0.00  0014-12-03 19:16:12  0014-12-03 21:02:18   \n",
            "4    3266500      0.93     0.00  0014-12-11 20:56:11  0014-12-11 21:14:06   \n",
            "\n",
            "   startTime  endTime  chargeTimeHrs weekday platform  ...  managerVehicle  \\\n",
            "0         15       17       1.510556     Tue  android  ...               0   \n",
            "1         17       19       2.177222     Wed  android  ...               0   \n",
            "2         12       16       4.671667     Fri  android  ...               0   \n",
            "3         19       21       1.768333     Wed  android  ...               0   \n",
            "4         20       21       0.298611     Thu  android  ...               0   \n",
            "\n",
            "   facilityType  Mon  Tues  Wed  Thurs  Fri  Sat  Sun  reportedZip  \n",
            "0             3    0     1    0      0    0    0    0            0  \n",
            "1             3    0     0    1      0    0    0    0            0  \n",
            "2             3    0     0    0      0    1    0    0            0  \n",
            "3             3    0     0    1      0    0    0    0            0  \n",
            "4             3    0     0    0      1    0    0    0            0  \n",
            "\n",
            "[5 rows x 24 columns]\n",
            "Number of missing values in the dataset,coloumn wise:\n",
            "sessionId            0\n",
            "kwhTotal             0\n",
            "dollars              0\n",
            "created              0\n",
            "ended                0\n",
            "startTime            0\n",
            "endTime              0\n",
            "chargeTimeHrs        0\n",
            "weekday              0\n",
            "platform             0\n",
            "distance          1065\n",
            "userId               0\n",
            "stationId            0\n",
            "locationId           0\n",
            "managerVehicle       0\n",
            "facilityType         0\n",
            "Mon                  0\n",
            "Tues                 0\n",
            "Wed                  0\n",
            "Thurs                0\n",
            "Fri                  0\n",
            "Sat                  0\n",
            "Sun                  0\n",
            "reportedZip          0\n",
            "dtype: int64\n",
            "Data types of each column:\n",
            "sessionId           int64\n",
            "kwhTotal          float64\n",
            "dollars           float64\n",
            "created            object\n",
            "ended              object\n",
            "startTime           int64\n",
            "endTime             int64\n",
            "chargeTimeHrs     float64\n",
            "weekday            object\n",
            "platform           object\n",
            "distance          float64\n",
            "userId              int64\n",
            "stationId           int64\n",
            "locationId          int64\n",
            "managerVehicle      int64\n",
            "facilityType        int64\n",
            "Mon                 int64\n",
            "Tues                int64\n",
            "Wed                 int64\n",
            "Thurs               int64\n",
            "Fri                 int64\n",
            "Sat                 int64\n",
            "Sun                 int64\n",
            "reportedZip         int64\n",
            "dtype: object\n"
          ]
        }
      ]
    },
    {
      "cell_type": "code",
      "source": [
        "#'distance' column has lot of missing values\n",
        "#plot the distribution of the 'distance' column\n",
        "\n",
        "plt.figure(figsize=(10,6))\n",
        "plt.hist(data['distance'].dropna(),bins=100,color='blue',alpha =0.7)\n",
        "plt.title('Distribution of Distance values')\n",
        "plt.xlabel('Distance')\n",
        "plt.ylabel('Frequency')\n",
        "plt.grid(True)\n",
        "plt.show()\n"
      ],
      "metadata": {
        "colab": {
          "base_uri": "https://localhost:8080/",
          "height": 584
        },
        "id": "sQwkS3hYFdud",
        "outputId": "d80ab3a1-703b-452e-cb10-de35438f0efb"
      },
      "execution_count": 46,
      "outputs": [
        {
          "output_type": "display_data",
          "data": {
            "text/plain": [
              "<Figure size 1000x600 with 1 Axes>"
            ],
            "image/png": "[encoded data removed]"
          },
          "metadata": {}
        }
      ]
    },
    {
      "cell_type": "code",
      "source": [
        "#Remove rows where 'distance' is missing\n",
        "cleaned_data = data.dropna(subset=['distance'])\n",
        "\n",
        "#Print the shape of the data before and after removal of missing values to see how many rows where removed\n",
        "print(\"Original data shape:\", data.shape)\n",
        "print(\"Cleaned data shape:\",cleaned_data.shape)"
      ],
      "metadata": {
        "colab": {
          "base_uri": "https://localhost:8080/"
        },
        "id": "5epG8cSSH-Pl",
        "outputId": "393b0168-d95d-40c8-d833-66a1b30b7770"
      },
      "execution_count": 47,
      "outputs": [
        {
          "output_type": "stream",
          "name": "stdout",
          "text": [
            "Original data shape: (3395, 24)\n",
            "Cleaned data shape: (2330, 24)\n"
          ]
        }
      ]
    },
    {
      "cell_type": "code",
      "source": [
        "print(cleaned_data.head())"
      ],
      "metadata": {
        "colab": {
          "base_uri": "https://localhost:8080/"
        },
        "id": "zUrGPZKBJdkS",
        "outputId": "4c6dce91-ff30-4485-fa03-864ded7e56d4"
      },
      "execution_count": 48,
      "outputs": [
        {
          "output_type": "stream",
          "name": "stdout",
          "text": [
            "     sessionId  kwhTotal  dollars              created                ended  \\\n",
            "343    7093670      5.61      0.0  0014-11-18 15:01:17  0014-11-18 18:26:04   \n",
            "344    3730551      9.03      0.0  0014-11-19 19:01:41  0014-11-19 22:10:06   \n",
            "345    7080329      6.95      0.0  0014-11-20 19:20:45  0014-11-20 21:48:04   \n",
            "346    3829635      7.38      0.0  0014-11-21 19:02:04  0014-11-21 21:31:03   \n",
            "347    6139758      6.69      0.0  0014-11-24 17:16:19  0014-11-24 19:31:04   \n",
            "\n",
            "     startTime  endTime  chargeTimeHrs weekday platform  ...  managerVehicle  \\\n",
            "343         15       18       3.413056     Tue      ios  ...               0   \n",
            "344         19       22       3.140278     Wed      ios  ...               0   \n",
            "345         19       21       2.455278     Thu      ios  ...               0   \n",
            "346         19       21       2.483056     Fri      ios  ...               0   \n",
            "347         17       19       2.245833     Mon      ios  ...               0   \n",
            "\n",
            "     facilityType  Mon  Tues  Wed  Thurs  Fri  Sat  Sun  reportedZip  \n",
            "343             3    0     1    0      0    0    0    0            1  \n",
            "344             3    0     0    1      0    0    0    0            1  \n",
            "345             3    0     0    0      1    0    0    0            1  \n",
            "346             3    0     0    0      0    1    0    0            1  \n",
            "347             3    1     0    0      0    0    0    0            1  \n",
            "\n",
            "[5 rows x 24 columns]\n"
          ]
        }
      ]
    },
    {
      "cell_type": "code",
      "source": [
        "#Plot distribution of the 'distance' column after removing the missing values\n",
        "plt.figure(figsize=(10,6))\n",
        "plt.hist(cleaned_data['distance'].dropna(), bins =100, color= 'blue', alpha=0.7)\n",
        "plt.title('Distribution of the Distance values')\n",
        "plt.xlabel('Distance')\n",
        "plt.ylabel('Frequency')\n",
        "plt.grid(True)\n",
        "plt.show()"
      ],
      "metadata": {
        "colab": {
          "base_uri": "https://localhost:8080/",
          "height": 584
        },
        "id": "tZVFJDqBJix0",
        "outputId": "8be494a9-9c1b-4952-9a62-2db04222e2db"
      },
      "execution_count": 49,
      "outputs": [
        {
          "output_type": "display_data",
          "data": {
            "text/plain": [
              "<Figure size 1000x600 with 1 Axes>"
            ],
            "image/png": "[encoded data removed]"
          },
          "metadata": {}
        }
      ]
    },
    {
      "cell_type": "code",
      "source": [],
      "metadata": {
        "id": "I0ZtuWM2K--Q"
      },
      "execution_count": null,
      "outputs": []
    }
  ]
}